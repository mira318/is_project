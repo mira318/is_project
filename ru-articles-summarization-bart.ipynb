{
 "cells": [
  {
   "cell_type": "code",
   "execution_count": 1,
   "metadata": {
    "_cell_guid": "b1076dfc-b9ad-4769-8c92-a6c4dae69d19",
    "_uuid": "8f2839f25d086af736a60e9eeb907d3b93b6e0e5",
    "execution": {
     "iopub.execute_input": "2023-04-03T01:16:39.252599Z",
     "iopub.status.busy": "2023-04-03T01:16:39.251774Z",
     "iopub.status.idle": "2023-04-03T01:16:40.723914Z",
     "shell.execute_reply": "2023-04-03T01:16:40.722702Z",
     "shell.execute_reply.started": "2023-04-03T01:16:39.252564Z"
    }
   },
   "outputs": [
    {
     "name": "stdout",
     "output_type": "stream",
     "text": [
      "Cloning into 'summarus'...\n",
      "remote: Enumerating objects: 1484, done.\u001b[K\n",
      "remote: Counting objects: 100% (118/118), done.\u001b[K\n",
      "remote: Compressing objects: 100% (39/39), done.\u001b[K\n",
      "remote: Total 1484 (delta 99), reused 96 (delta 79), pack-reused 1366\u001b[K\n",
      "Receiving objects: 100% (1484/1484), 504.99 KiB | 3.16 MiB/s, done.\n",
      "Resolving deltas: 100% (988/988), done.\n"
     ]
    }
   ],
   "source": [
    "! git clone https://github.com/IlyaGusev/summarus.git"
   ]
  },
  {
   "cell_type": "markdown",
   "metadata": {},
   "source": [
    "## Подготовка данных"
   ]
  },
  {
   "cell_type": "code",
   "execution_count": 5,
   "metadata": {
    "execution": {
     "iopub.execute_input": "2023-04-03T01:20:08.735843Z",
     "iopub.status.busy": "2023-04-03T01:20:08.735404Z",
     "iopub.status.idle": "2023-04-03T01:20:11.708834Z",
     "shell.execute_reply": "2023-04-03T01:20:11.707761Z",
     "shell.execute_reply.started": "2023-04-03T01:20:08.735777Z"
    },
    "scrolled": true
   },
   "outputs": [],
   "source": [
    "import os\n",
    "import sys\n",
    "import pandas as pd\n",
    "import numpy as np\n",
    "from tqdm.notebook import tqdm\n",
    "from datasets import Dataset, DatasetDict\n",
    "import razdel\n",
    "import fasttext\n",
    "\n",
    "from evaluate import print_metrics, postprocess"
   ]
  },
  {
   "cell_type": "code",
   "execution_count": 10,
   "metadata": {
    "execution": {
     "iopub.execute_input": "2023-04-03T01:20:11.711007Z",
     "iopub.status.busy": "2023-04-03T01:20:11.710336Z",
     "iopub.status.idle": "2023-04-03T01:20:12.695490Z",
     "shell.execute_reply": "2023-04-03T01:20:12.694032Z",
     "shell.execute_reply.started": "2023-04-03T01:20:11.710975Z"
    }
   },
   "outputs": [
    {
     "name": "stdout",
     "output_type": "stream",
     "text": [
      "articles_part_0.csv  articles_part_4.csv  articles_part_8.csv  val_data.json\r\n",
      "articles_part_1.csv  articles_part_5.csv  query_list.txt       visited_set.txt\r\n",
      "articles_part_2.csv  articles_part_6.csv  test_data.json\r\n",
      "articles_part_3.csv  articles_part_7.csv  train_data.json\r\n"
     ]
    }
   ],
   "source": [
    "%ls /DATA/ichuviliaeva/project_data"
   ]
  },
  {
   "cell_type": "code",
   "execution_count": 12,
   "metadata": {
    "execution": {
     "iopub.execute_input": "2023-04-03T01:20:12.698880Z",
     "iopub.status.busy": "2023-04-03T01:20:12.698414Z",
     "iopub.status.idle": "2023-04-03T01:24:39.604254Z",
     "shell.execute_reply": "2023-04-03T01:24:39.603015Z",
     "shell.execute_reply.started": "2023-04-03T01:20:12.698803Z"
    }
   },
   "outputs": [
    {
     "name": "stdout",
     "output_type": "stream",
     "text": [
      "--2023-04-10 01:27:16--  https://dl.fbaipublicfiles.com/fasttext/supervised-models/lid.176.ftz\n",
      "Resolving dl.fbaipublicfiles.com (dl.fbaipublicfiles.com)... 108.156.22.14, 108.156.22.118, 108.156.22.105, ...\n",
      "Connecting to dl.fbaipublicfiles.com (dl.fbaipublicfiles.com)|108.156.22.14|:443... connected.\n",
      "HTTP request sent, awaiting response... 200 OK\n",
      "Length: 938013 (916K) [binary/octet-stream]\n",
      "Saving to: ‘lid.176.ftz.1’\n",
      "\n",
      "lid.176.ftz.1       100%[===================>] 916.03K  --.-KB/s    in 0.1s    \n",
      "\n",
      "2023-04-10 01:27:17 (6.36 MB/s) - ‘lid.176.ftz.1’ saved [938013/938013]\n",
      "\n"
     ]
    },
    {
     "name": "stderr",
     "output_type": "stream",
     "text": [
      "Warning : `load_model` does not return WordVectorModel or SupervisedModel any more, but a `FastText` object which is very similar.\n"
     ]
    },
    {
     "data": {
      "application/vnd.jupyter.widget-view+json": {
       "model_id": "027d9e813dfb42e8b4f277e01b8f21f9",
       "version_major": 2,
       "version_minor": 0
      },
      "text/plain": [
       "  0%|          | 0/800 [00:00<?, ?it/s]"
      ]
     },
     "metadata": {},
     "output_type": "display_data"
    },
    {
     "data": {
      "application/vnd.jupyter.widget-view+json": {
       "model_id": "6303c58a21864eaabb14a59283c54315",
       "version_major": 2,
       "version_minor": 0
      },
      "text/plain": [
       "  0%|          | 0/5000 [00:00<?, ?it/s]"
      ]
     },
     "metadata": {},
     "output_type": "display_data"
    },
    {
     "data": {
      "application/vnd.jupyter.widget-view+json": {
       "model_id": "d21c3965ec6c4d9db9849e3fe529a4b5",
       "version_major": 2,
       "version_minor": 0
      },
      "text/plain": [
       "  0%|          | 0/5000 [00:00<?, ?it/s]"
      ]
     },
     "metadata": {},
     "output_type": "display_data"
    },
    {
     "data": {
      "application/vnd.jupyter.widget-view+json": {
       "model_id": "397eaf4970914f64a204490d22fcd516",
       "version_major": 2,
       "version_minor": 0
      },
      "text/plain": [
       "  0%|          | 0/5000 [00:00<?, ?it/s]"
      ]
     },
     "metadata": {},
     "output_type": "display_data"
    },
    {
     "data": {
      "application/vnd.jupyter.widget-view+json": {
       "model_id": "b6e624395ae742e89fe0eb1a42f5493b",
       "version_major": 2,
       "version_minor": 0
      },
      "text/plain": [
       "  0%|          | 0/5000 [00:00<?, ?it/s]"
      ]
     },
     "metadata": {},
     "output_type": "display_data"
    },
    {
     "data": {
      "application/vnd.jupyter.widget-view+json": {
       "model_id": "7b575bee5c21409a8357ad90fdee28b2",
       "version_major": 2,
       "version_minor": 0
      },
      "text/plain": [
       "  0%|          | 0/5000 [00:00<?, ?it/s]"
      ]
     },
     "metadata": {},
     "output_type": "display_data"
    },
    {
     "data": {
      "application/vnd.jupyter.widget-view+json": {
       "model_id": "22d786d2d13a4756b9dc2f0ab3d9f7f7",
       "version_major": 2,
       "version_minor": 0
      },
      "text/plain": [
       "  0%|          | 0/5000 [00:00<?, ?it/s]"
      ]
     },
     "metadata": {},
     "output_type": "display_data"
    },
    {
     "data": {
      "application/vnd.jupyter.widget-view+json": {
       "model_id": "105e7bc112264709a06354f95cbd0cdc",
       "version_major": 2,
       "version_minor": 0
      },
      "text/plain": [
       "  0%|          | 0/5000 [00:00<?, ?it/s]"
      ]
     },
     "metadata": {},
     "output_type": "display_data"
    },
    {
     "data": {
      "application/vnd.jupyter.widget-view+json": {
       "model_id": "59aa384a9cfb4f4c9bb13e315ec6e7dd",
       "version_major": 2,
       "version_minor": 0
      },
      "text/plain": [
       "  0%|          | 0/5000 [00:00<?, ?it/s]"
      ]
     },
     "metadata": {},
     "output_type": "display_data"
    },
    {
     "data": {
      "text/html": [
       "<div>\n",
       "<style scoped>\n",
       "    .dataframe tbody tr th:only-of-type {\n",
       "        vertical-align: middle;\n",
       "    }\n",
       "\n",
       "    .dataframe tbody tr th {\n",
       "        vertical-align: top;\n",
       "    }\n",
       "\n",
       "    .dataframe thead th {\n",
       "        text-align: right;\n",
       "    }\n",
       "</style>\n",
       "<table border=\"1\" class=\"dataframe\">\n",
       "  <thead>\n",
       "    <tr style=\"text-align: right;\">\n",
       "      <th></th>\n",
       "      <th>article</th>\n",
       "      <th>abstract</th>\n",
       "    </tr>\n",
       "  </thead>\n",
       "  <tbody>\n",
       "    <tr>\n",
       "      <th>0</th>\n",
       "      <td>Состав и калорийность\\nПлоды айвы достаточно н...</td>\n",
       "      <td>Айву, которую часто называют ложным яблоком вс...</td>\n",
       "    </tr>\n",
       "    <tr>\n",
       "      <th>1</th>\n",
       "      <td>В последние годы при госпитализации больных с ...</td>\n",
       "      <td>Исследовалась частота ассоциации заболеваний щ...</td>\n",
       "    </tr>\n",
       "    <tr>\n",
       "      <th>2</th>\n",
       "      <td>Введение. Одной из серьезных проблем, стоящих ...</td>\n",
       "      <td>Цель исследования - провести анализ динамики с...</td>\n",
       "    </tr>\n",
       "    <tr>\n",
       "      <th>3</th>\n",
       "      <td>Актуальность проблемы. На современном этапе пр...</td>\n",
       "      <td>В статье проанализированы данные о впервые выя...</td>\n",
       "    </tr>\n",
       "    <tr>\n",
       "      <th>4</th>\n",
       "      <td>Сохранение здоровья детей в Российской Федерац...</td>\n",
       "      <td>В статье представлены краткие данные о распрос...</td>\n",
       "    </tr>\n",
       "  </tbody>\n",
       "</table>\n",
       "</div>"
      ],
      "text/plain": [
       "                                             article  \\\n",
       "0  Состав и калорийность\\nПлоды айвы достаточно н...   \n",
       "1  В последние годы при госпитализации больных с ...   \n",
       "2  Введение. Одной из серьезных проблем, стоящих ...   \n",
       "3  Актуальность проблемы. На современном этапе пр...   \n",
       "4  Сохранение здоровья детей в Российской Федерац...   \n",
       "\n",
       "                                            abstract  \n",
       "0  Айву, которую часто называют ложным яблоком вс...  \n",
       "1  Исследовалась частота ассоциации заболеваний щ...  \n",
       "2  Цель исследования - провести анализ динамики с...  \n",
       "3  В статье проанализированы данные о впервые выя...  \n",
       "4  В статье представлены краткие данные о распрос...  "
      ]
     },
     "execution_count": 12,
     "metadata": {},
     "output_type": "execute_result"
    }
   ],
   "source": [
    "! wget https://dl.fbaipublicfiles.com/fasttext/supervised-models/lid.176.ftz\n",
    "lang_detector = fasttext.load_model('lid.176.ftz')\n",
    "\n",
    "data_path = '/DATA/ichuviliaeva/project_data'\n",
    "data = []\n",
    "for file_name in os.listdir(data_path):\n",
    "    if 'articles' not in file_name:\n",
    "        continue\n",
    "    data_part = pd.read_csv(os.path.join(data_path, file_name))\n",
    "\n",
    "    # Checking that article and abstract are written in russian\n",
    "    for article, abstract in tqdm(data_part[['article', 'abstract']].to_numpy()):\n",
    "        if lang_detector.predict(article.replace('\\n', ' '), k=1)[0][0] == '__label__en' or \\\n",
    "            lang_detector.predict(abstract.replace('\\n', ' '), k=1)[0][0] == '__label__en':\n",
    "            continue\n",
    "        data.append([article, abstract])\n",
    "\n",
    "data = pd.DataFrame(data, columns=['article', 'abstract'])\n",
    "\n",
    "data.head()"
   ]
  },
  {
   "cell_type": "code",
   "execution_count": 13,
   "metadata": {
    "execution": {
     "iopub.execute_input": "2023-04-03T01:24:39.609188Z",
     "iopub.status.busy": "2023-04-03T01:24:39.608401Z",
     "iopub.status.idle": "2023-04-03T01:24:39.622969Z",
     "shell.execute_reply": "2023-04-03T01:24:39.621827Z",
     "shell.execute_reply.started": "2023-04-03T01:24:39.609144Z"
    }
   },
   "outputs": [
    {
     "data": {
      "text/html": [
       "<div>\n",
       "<style scoped>\n",
       "    .dataframe tbody tr th:only-of-type {\n",
       "        vertical-align: middle;\n",
       "    }\n",
       "\n",
       "    .dataframe tbody tr th {\n",
       "        vertical-align: top;\n",
       "    }\n",
       "\n",
       "    .dataframe thead th {\n",
       "        text-align: right;\n",
       "    }\n",
       "</style>\n",
       "<table border=\"1\" class=\"dataframe\">\n",
       "  <thead>\n",
       "    <tr style=\"text-align: right;\">\n",
       "      <th></th>\n",
       "      <th>article</th>\n",
       "      <th>abstract</th>\n",
       "    </tr>\n",
       "  </thead>\n",
       "  <tbody>\n",
       "    <tr>\n",
       "      <th>0</th>\n",
       "      <td>Состав и калорийность\\nПлоды айвы достаточно н...</td>\n",
       "      <td>Айву, которую часто называют ложным яблоком вс...</td>\n",
       "    </tr>\n",
       "    <tr>\n",
       "      <th>1</th>\n",
       "      <td>В последние годы при госпитализации больных с ...</td>\n",
       "      <td>Исследовалась частота ассоциации заболеваний щ...</td>\n",
       "    </tr>\n",
       "    <tr>\n",
       "      <th>2</th>\n",
       "      <td>Введение. Одной из серьезных проблем, стоящих ...</td>\n",
       "      <td>Цель исследования - провести анализ динамики с...</td>\n",
       "    </tr>\n",
       "    <tr>\n",
       "      <th>3</th>\n",
       "      <td>Актуальность проблемы. На современном этапе пр...</td>\n",
       "      <td>В статье проанализированы данные о впервые выя...</td>\n",
       "    </tr>\n",
       "    <tr>\n",
       "      <th>4</th>\n",
       "      <td>Сохранение здоровья детей в Российской Федерац...</td>\n",
       "      <td>В статье представлены краткие данные о распрос...</td>\n",
       "    </tr>\n",
       "    <tr>\n",
       "      <th>...</th>\n",
       "      <td>...</td>\n",
       "      <td>...</td>\n",
       "    </tr>\n",
       "    <tr>\n",
       "      <th>38670</th>\n",
       "      <td>Одним из значимых симптомов в структуре дефект...</td>\n",
       "      <td>Работа посвящена рассмотрению проблемы коррекц...</td>\n",
       "    </tr>\n",
       "    <tr>\n",
       "      <th>38671</th>\n",
       "      <td>Актуальность обращения к методу сенсорной инте...</td>\n",
       "      <td>Представлены результаты экспериментального исс...</td>\n",
       "    </tr>\n",
       "    <tr>\n",
       "      <th>38672</th>\n",
       "      <td>По определению, принятому в научной литературе...</td>\n",
       "      <td>В статье рассматриваются условия успешного обу...</td>\n",
       "    </tr>\n",
       "    <tr>\n",
       "      <th>38673</th>\n",
       "      <td>В настоящее время в логопедии понятие «звуко-с...</td>\n",
       "      <td>В статье рассматривается актуальная проблема д...</td>\n",
       "    </tr>\n",
       "    <tr>\n",
       "      <th>38674</th>\n",
       "      <td>Эволюция представлений о формировании речи реб...</td>\n",
       "      <td>Статья посвящена лонгитюдному изучению формиро...</td>\n",
       "    </tr>\n",
       "  </tbody>\n",
       "</table>\n",
       "<p>38675 rows × 2 columns</p>\n",
       "</div>"
      ],
      "text/plain": [
       "                                                 article  \\\n",
       "0      Состав и калорийность\\nПлоды айвы достаточно н...   \n",
       "1      В последние годы при госпитализации больных с ...   \n",
       "2      Введение. Одной из серьезных проблем, стоящих ...   \n",
       "3      Актуальность проблемы. На современном этапе пр...   \n",
       "4      Сохранение здоровья детей в Российской Федерац...   \n",
       "...                                                  ...   \n",
       "38670  Одним из значимых симптомов в структуре дефект...   \n",
       "38671  Актуальность обращения к методу сенсорной инте...   \n",
       "38672  По определению, принятому в научной литературе...   \n",
       "38673  В настоящее время в логопедии понятие «звуко-с...   \n",
       "38674  Эволюция представлений о формировании речи реб...   \n",
       "\n",
       "                                                abstract  \n",
       "0      Айву, которую часто называют ложным яблоком вс...  \n",
       "1      Исследовалась частота ассоциации заболеваний щ...  \n",
       "2      Цель исследования - провести анализ динамики с...  \n",
       "3      В статье проанализированы данные о впервые выя...  \n",
       "4      В статье представлены краткие данные о распрос...  \n",
       "...                                                  ...  \n",
       "38670  Работа посвящена рассмотрению проблемы коррекц...  \n",
       "38671  Представлены результаты экспериментального исс...  \n",
       "38672  В статье рассматриваются условия успешного обу...  \n",
       "38673  В статье рассматривается актуальная проблема д...  \n",
       "38674  Статья посвящена лонгитюдному изучению формиро...  \n",
       "\n",
       "[38675 rows x 2 columns]"
      ]
     },
     "metadata": {},
     "output_type": "display_data"
    }
   ],
   "source": [
    "display(data)"
   ]
  },
  {
   "cell_type": "code",
   "execution_count": 11,
   "metadata": {
    "execution": {
     "iopub.execute_input": "2023-04-03T01:24:39.625107Z",
     "iopub.status.busy": "2023-04-03T01:24:39.624703Z",
     "iopub.status.idle": "2023-04-03T01:24:39.645666Z",
     "shell.execute_reply": "2023-04-03T01:24:39.644706Z",
     "shell.execute_reply.started": "2023-04-03T01:24:39.625068Z"
    }
   },
   "outputs": [],
   "source": [
    "from sklearn.model_selection import train_test_split\n",
    "train, test = train_test_split(data, test_size=0.2, random_state=42)\n",
    "test, val = train_test_split(test, test_size=0.5, random_state=42)"
   ]
  },
  {
   "cell_type": "code",
   "execution_count": 12,
   "metadata": {
    "execution": {
     "iopub.execute_input": "2023-04-03T01:24:39.648310Z",
     "iopub.status.busy": "2023-04-03T01:24:39.647861Z",
     "iopub.status.idle": "2023-04-03T01:24:39.662032Z",
     "shell.execute_reply": "2023-04-03T01:24:39.660774Z",
     "shell.execute_reply.started": "2023-04-03T01:24:39.648271Z"
    }
   },
   "outputs": [
    {
     "data": {
      "text/html": [
       "<div>\n",
       "<style scoped>\n",
       "    .dataframe tbody tr th:only-of-type {\n",
       "        vertical-align: middle;\n",
       "    }\n",
       "\n",
       "    .dataframe tbody tr th {\n",
       "        vertical-align: top;\n",
       "    }\n",
       "\n",
       "    .dataframe thead th {\n",
       "        text-align: right;\n",
       "    }\n",
       "</style>\n",
       "<table border=\"1\" class=\"dataframe\">\n",
       "  <thead>\n",
       "    <tr style=\"text-align: right;\">\n",
       "      <th></th>\n",
       "      <th>article</th>\n",
       "      <th>abstract</th>\n",
       "    </tr>\n",
       "  </thead>\n",
       "  <tbody>\n",
       "    <tr>\n",
       "      <th>2730</th>\n",
       "      <td>На фоне таких по-настоящему крупных церковных ...</td>\n",
       "      <td>Дается характеристика жизни и творческого насл...</td>\n",
       "    </tr>\n",
       "    <tr>\n",
       "      <th>29656</th>\n",
       "      <td>Введение\\nАтомные станции (АС) являются потенц...</td>\n",
       "      <td>Рассматриваются трехмерные нелинейные задачи д...</td>\n",
       "    </tr>\n",
       "    <tr>\n",
       "      <th>11325</th>\n",
       "      <td>Введение\\nУстановлено, что печень, как правило...</td>\n",
       "      <td>Введение мерказолила (25 мг/кг 20 дней) per se...</td>\n",
       "    </tr>\n",
       "    <tr>\n",
       "      <th>10755</th>\n",
       "      <td>Значительное изменение социально-политических,...</td>\n",
       "      <td>Статья посвящена территориальным градостроител...</td>\n",
       "    </tr>\n",
       "    <tr>\n",
       "      <th>10530</th>\n",
       "      <td>Австрийская Республика приняла статус постоянн...</td>\n",
       "      <td>Рассматривается вопрос трансформации постоянно...</td>\n",
       "    </tr>\n",
       "    <tr>\n",
       "      <th>...</th>\n",
       "      <td>...</td>\n",
       "      <td>...</td>\n",
       "    </tr>\n",
       "    <tr>\n",
       "      <th>28612</th>\n",
       "      <td>Аграрный вестник Урала\\n87\\nЛесное хозяйство\\n...</td>\n",
       "      <td>На основании отчётных данных за период с 1980 ...</td>\n",
       "    </tr>\n",
       "    <tr>\n",
       "      <th>22237</th>\n",
       "      <td>слепых; система спортивной подготов- athletes,...</td>\n",
       "      <td>В статье описан опыт применения комплексного к...</td>\n",
       "    </tr>\n",
       "    <tr>\n",
       "      <th>15315</th>\n",
       "      <td>анализ.\\nВведение. В основе подходов к упрочне...</td>\n",
       "      <td>В работе рассматривается и формируется нелиней...</td>\n",
       "    </tr>\n",
       "    <tr>\n",
       "      <th>17639</th>\n",
       "      <td>underground water, swamp water, chemistry, tai...</td>\n",
       "      <td>Проведено обобщение данных по химическому сост...</td>\n",
       "    </tr>\n",
       "    <tr>\n",
       "      <th>33466</th>\n",
       "      <td>Введение. Решение задачи продовольственной без...</td>\n",
       "      <td>Изучен процесс разложения кингисеппского фосфо...</td>\n",
       "    </tr>\n",
       "  </tbody>\n",
       "</table>\n",
       "<p>3868 rows × 2 columns</p>\n",
       "</div>"
      ],
      "text/plain": [
       "                                                 article  \\\n",
       "2730   На фоне таких по-настоящему крупных церковных ...   \n",
       "29656  Введение\\nАтомные станции (АС) являются потенц...   \n",
       "11325  Введение\\nУстановлено, что печень, как правило...   \n",
       "10755  Значительное изменение социально-политических,...   \n",
       "10530  Австрийская Республика приняла статус постоянн...   \n",
       "...                                                  ...   \n",
       "28612  Аграрный вестник Урала\\n87\\nЛесное хозяйство\\n...   \n",
       "22237  слепых; система спортивной подготов- athletes,...   \n",
       "15315  анализ.\\nВведение. В основе подходов к упрочне...   \n",
       "17639  underground water, swamp water, chemistry, tai...   \n",
       "33466  Введение. Решение задачи продовольственной без...   \n",
       "\n",
       "                                                abstract  \n",
       "2730   Дается характеристика жизни и творческого насл...  \n",
       "29656  Рассматриваются трехмерные нелинейные задачи д...  \n",
       "11325  Введение мерказолила (25 мг/кг 20 дней) per se...  \n",
       "10755  Статья посвящена территориальным градостроител...  \n",
       "10530  Рассматривается вопрос трансформации постоянно...  \n",
       "...                                                  ...  \n",
       "28612  На основании отчётных данных за период с 1980 ...  \n",
       "22237  В статье описан опыт применения комплексного к...  \n",
       "15315  В работе рассматривается и формируется нелиней...  \n",
       "17639  Проведено обобщение данных по химическому сост...  \n",
       "33466  Изучен процесс разложения кингисеппского фосфо...  \n",
       "\n",
       "[3868 rows x 2 columns]"
      ]
     },
     "metadata": {},
     "output_type": "display_data"
    }
   ],
   "source": [
    "display(val)"
   ]
  },
  {
   "cell_type": "code",
   "execution_count": 14,
   "metadata": {
    "execution": {
     "iopub.execute_input": "2023-04-03T01:34:51.724079Z",
     "iopub.status.busy": "2023-04-03T01:34:51.721979Z",
     "iopub.status.idle": "2023-04-03T01:34:52.835379Z",
     "shell.execute_reply": "2023-04-03T01:34:52.833957Z",
     "shell.execute_reply.started": "2023-04-03T01:34:51.724039Z"
    }
   },
   "outputs": [
    {
     "data": {
      "text/plain": [
       "DatasetDict({\n",
       "    train: Dataset({\n",
       "        features: ['article', 'abstract'],\n",
       "        num_rows: 30940\n",
       "    })\n",
       "    valid: Dataset({\n",
       "        features: ['article', 'abstract'],\n",
       "        num_rows: 3867\n",
       "    })\n",
       "    test: Dataset({\n",
       "        features: ['article', 'abstract'],\n",
       "        num_rows: 3868\n",
       "    })\n",
       "})"
      ]
     },
     "execution_count": 14,
     "metadata": {},
     "output_type": "execute_result"
    }
   ],
   "source": [
    "dataset = Dataset.from_pandas(data)\n",
    "dataset = dataset.train_test_split(test_size=0.2, seed=42)\n",
    "test_val_dataset = dataset['test'].train_test_split(test_size=0.5, seed=42)\n",
    "\n",
    "datasets = DatasetDict({\n",
    "    'train': dataset['train'],\n",
    "    'valid': test_val_dataset['train'],\n",
    "    'test': test_val_dataset['test']\n",
    "})\n",
    "datasets"
   ]
  },
  {
   "cell_type": "code",
   "execution_count": 15,
   "metadata": {
    "execution": {
     "iopub.execute_input": "2023-04-03T01:24:39.664918Z",
     "iopub.status.busy": "2023-04-03T01:24:39.664087Z",
     "iopub.status.idle": "2023-04-03T01:25:06.369712Z",
     "shell.execute_reply": "2023-04-03T01:25:06.368628Z",
     "shell.execute_reply.started": "2023-04-03T01:24:39.664855Z"
    }
   },
   "outputs": [
    {
     "data": {
      "application/vnd.jupyter.widget-view+json": {
       "model_id": "ea24d4da131b42de83a4cfa669b1803e",
       "version_major": 2,
       "version_minor": 0
      },
      "text/plain": [
       "Creating json from Arrow format:   0%|          | 0/31 [00:00<?, ?ba/s]"
      ]
     },
     "metadata": {},
     "output_type": "display_data"
    },
    {
     "data": {
      "application/vnd.jupyter.widget-view+json": {
       "model_id": "2515699dea72486b9e078d0a21f74576",
       "version_major": 2,
       "version_minor": 0
      },
      "text/plain": [
       "Creating json from Arrow format:   0%|          | 0/4 [00:00<?, ?ba/s]"
      ]
     },
     "metadata": {},
     "output_type": "display_data"
    },
    {
     "data": {
      "application/vnd.jupyter.widget-view+json": {
       "model_id": "db610ec303a542d591480482cfd521d0",
       "version_major": 2,
       "version_minor": 0
      },
      "text/plain": [
       "Creating json from Arrow format:   0%|          | 0/4 [00:00<?, ?ba/s]"
      ]
     },
     "metadata": {},
     "output_type": "display_data"
    },
    {
     "data": {
      "text/plain": [
       "367068122"
      ]
     },
     "execution_count": 15,
     "metadata": {},
     "output_type": "execute_result"
    }
   ],
   "source": [
    "datasets['train'].to_json('/DATA/ichuviliaeva/project_data/train_data.json')\n",
    "datasets['valid'].to_json('/DATA/ichuviliaeva/project_data/val_data.json')\n",
    "datasets['test'].to_json('/DATA/ichuviliaeva/project_data/test_data.json')"
   ]
  },
  {
   "cell_type": "markdown",
   "metadata": {
    "execution": {
     "iopub.execute_input": "2023-04-03T00:29:37.478403Z",
     "iopub.status.busy": "2023-04-03T00:29:37.477975Z",
     "iopub.status.idle": "2023-04-03T00:29:40.030714Z",
     "shell.execute_reply": "2023-04-03T00:29:40.029589Z",
     "shell.execute_reply.started": "2023-04-03T00:29:37.478361Z"
    }
   },
   "source": [
    "## Bart"
   ]
  },
  {
   "cell_type": "code",
   "execution_count": 1,
   "metadata": {
    "execution": {
     "iopub.execute_input": "2023-04-03T01:25:06.371583Z",
     "iopub.status.busy": "2023-04-03T01:25:06.371227Z",
     "iopub.status.idle": "2023-04-03T01:25:07.403184Z",
     "shell.execute_reply": "2023-04-03T01:25:07.401871Z",
     "shell.execute_reply.started": "2023-04-03T01:25:06.371544Z"
    }
   },
   "outputs": [
    {
     "name": "stdout",
     "output_type": "stream",
     "text": [
      "bart_preprocess.sh  \u001b[0m\u001b[01;34mru_articles_summarization\u001b[0m/             \u001b[01;34msummarus\u001b[0m/\r\n",
      "\u001b[01;34mfairseq\u001b[0m/            ru-articles-summarization-mbart.ipynb\r\n"
     ]
    }
   ],
   "source": [
    "%ls"
   ]
  },
  {
   "cell_type": "code",
   "execution_count": 2,
   "metadata": {},
   "outputs": [
    {
     "name": "stdout",
     "output_type": "stream",
     "text": [
      "/home/ichuviliaeva/is_project/summarus\n"
     ]
    }
   ],
   "source": [
    "%cd summarus"
   ]
  },
  {
   "cell_type": "code",
   "execution_count": 2,
   "metadata": {},
   "outputs": [],
   "source": [
    "import os"
   ]
  },
  {
   "cell_type": "code",
   "execution_count": 3,
   "metadata": {},
   "outputs": [],
   "source": [
    "os.environ['CUDA_VISIBLE_DEVICES'] = '2'"
   ]
  },
  {
   "cell_type": "code",
   "execution_count": 5,
   "metadata": {
    "execution": {
     "iopub.execute_input": "2023-04-03T01:25:07.405940Z",
     "iopub.status.busy": "2023-04-03T01:25:07.405170Z",
     "iopub.status.idle": "2023-04-03T01:25:11.491195Z",
     "shell.execute_reply": "2023-04-03T01:25:11.489949Z",
     "shell.execute_reply.started": "2023-04-03T01:25:07.405892Z"
    }
   },
   "outputs": [],
   "source": [
    "import json\n",
    "import torch\n",
    "from tqdm.notebook import tqdm\n",
    "from transformers import MBartTokenizer, MBartForConditionalGeneration\n",
    "\n",
    "\n",
    "def gen_batch(inputs, batch_size):\n",
    "    batch_start = 0\n",
    "    while batch_start < len(inputs):\n",
    "        yield inputs[batch_start: batch_start + batch_size]\n",
    "        batch_start += batch_size\n",
    "\n",
    "def predict(\n",
    "    model_name,\n",
    "    test_file,\n",
    "    predictions_file,\n",
    "    targets_file,\n",
    "    max_source_tokens_count=600,\n",
    "    max_target_tokens_count=160,\n",
    "    use_cuda=True,\n",
    "    batch_size=4\n",
    "):\n",
    "    inputs = []\n",
    "    targets = []\n",
    "    \n",
    "    with open(test_file, \"r\") as r:\n",
    "        for line in r:\n",
    "            record = json.loads(line)\n",
    "            inputs.append(record[\"article\"])\n",
    "            targets.append(record[\"abstract\"].replace(\"\\n\", \" \"))\n",
    "        \n",
    "    tokenizer = MBartTokenizer.from_pretrained(model_name)\n",
    "    device = torch.device(\"cuda:0\") if use_cuda else torch.device(\"cpu\")\n",
    "    model = MBartForConditionalGeneration.from_pretrained(model_name).to(device)\n",
    "    \n",
    "    predictions = []\n",
    "    batches = gen_batch(inputs, batch_size)\n",
    "    for batch in tqdm(batches):\n",
    "        input_ids = tokenizer.prepare_seq2seq_batch(\n",
    "            batch,\n",
    "            src_lang=\"ru_RU\",\n",
    "            return_tensors=\"pt\",\n",
    "            padding=\"max_length\",\n",
    "            truncation=True,\n",
    "            max_length=max_source_tokens_count\n",
    "        )[\"input_ids\"].to(device)\n",
    "        output_ids = model.generate(\n",
    "            input_ids=input_ids,\n",
    "            max_length=max_target_tokens_count + 2,\n",
    "            no_repeat_ngram_size=3,\n",
    "            num_beams=5,\n",
    "            top_k=0\n",
    "        )\n",
    "        summaries = tokenizer.batch_decode(output_ids, skip_special_tokens=True, clean_up_tokenization_spaces=False)\n",
    "        predictions.extend(summaries)\n",
    "        \n",
    "    with open(predictions_file, \"w\") as w:\n",
    "        for p in predictions:\n",
    "            w.write(p.strip() + \"\\n\")\n",
    "    with open(targets_file, \"w\") as w:\n",
    "        for t in targets:\n",
    "            w.write(t.strip() + \"\\n\")\n",
    "        \n",
    "    return predictions, targets"
   ]
  },
  {
   "cell_type": "code",
   "execution_count": 6,
   "metadata": {
    "execution": {
     "iopub.execute_input": "2023-04-03T01:25:11.493705Z",
     "iopub.status.busy": "2023-04-03T01:25:11.493363Z",
     "iopub.status.idle": "2023-04-03T01:34:34.604533Z",
     "shell.execute_reply": "2023-04-03T01:34:34.602750Z",
     "shell.execute_reply.started": "2023-04-03T01:25:11.493671Z"
    }
   },
   "outputs": [
    {
     "data": {
      "application/vnd.jupyter.widget-view+json": {
       "model_id": "7a10e4b05b5441139d59d57a78e71a83",
       "version_major": 2,
       "version_minor": 0
      },
      "text/plain": [
       "0it [00:00, ?it/s]"
      ]
     },
     "metadata": {},
     "output_type": "display_data"
    },
    {
     "name": "stderr",
     "output_type": "stream",
     "text": [
      "/home/ichuviliaeva/miniconda3/envs/is_project/lib/python3.9/site-packages/transformers/tokenization_utils_base.py:3712: FutureWarning: \n",
      "`prepare_seq2seq_batch` is deprecated and will be removed in version 5 of HuggingFace Transformers. Use the regular\n",
      "`__call__` method to prepare your inputs and targets.\n",
      "\n",
      "Here is a short example:\n",
      "\n",
      "model_inputs = tokenizer(src_texts, text_target=tgt_texts, ...)\n",
      "\n",
      "If you either need to use different keyword arguments for the source and target texts, you should do two calls like\n",
      "this:\n",
      "\n",
      "model_inputs = tokenizer(src_texts, ...)\n",
      "labels = tokenizer(text_target=tgt_texts, ...)\n",
      "model_inputs[\"labels\"] = labels[\"input_ids\"]\n",
      "\n",
      "See the documentation of your specific tokenizer for more details on the specific arguments to the tokenizer of choice.\n",
      "For a more complete example, see the implementation of `prepare_seq2seq_batch`.\n",
      "\n",
      "  warnings.warn(formatted_warning, FutureWarning)\n"
     ]
    }
   ],
   "source": [
    "predictions, targets = predict(\n",
    "    \"IlyaGusev/mbart_ru_sum_gazeta\", \n",
    "    \"/DATA/ichuviliaeva/project_data/test_data.json\",\n",
    "    \"/DATA/ichuviliaeva/project_data/predictions.txt\", \n",
    "    \"/DATA/ichuviliaeva/project_data/targets.txt\", \n",
    "    batch_size = 16\n",
    ")"
   ]
  },
  {
   "cell_type": "code",
   "execution_count": null,
   "metadata": {},
   "outputs": [],
   "source": [
    "# работает около часа"
   ]
  },
  {
   "cell_type": "code",
   "execution_count": 10,
   "metadata": {},
   "outputs": [],
   "source": [
    "import os\n",
    "import argparse\n",
    "import re\n",
    "\n",
    "import numpy as np\n",
    "\n",
    "import razdel\n",
    "import nltk\n",
    "\n",
    "from collections import Counter\n",
    "from statistics import mean\n",
    "\n",
    "from rouge import Rouge\n",
    "from nltk.translate.bleu_score import corpus_bleu\n",
    "from nltk.translate.chrf_score import corpus_chrf\n",
    "import torch\n",
    "\n",
    "\n",
    "def calc_metrics(refs, hyps):\n",
    "    metrics = dict()\n",
    "    metrics[\"count\"] = len(hyps)\n",
    "    metrics[\"ref_example\"] = refs[-1]\n",
    "    metrics[\"hyp_example\"] = hyps[-1]\n",
    "    many_refs = [[r] if r is not list else r for r in refs]\n",
    "\n",
    "    # Calculate BLEU score\n",
    "    t_hyps = [hyp.split(\" \") for hyp in hyps]\n",
    "    t_refs = [[r.split(\" \") for r in rs] for rs in many_refs]\n",
    "    metrics[\"bleu\"] = corpus_bleu(t_refs, t_hyps)\n",
    "\n",
    "    # Calculate BLEU score\n",
    "    rouge = Rouge()\n",
    "    # Remove empty hypotheses\n",
    "    idxs = np.where([len(h) > 0 for h in hyps])[0]\n",
    "    scores = rouge.get_scores(np.array(hyps)[idxs], np.array(refs)[idxs], avg=True)\n",
    "    metrics.update(scores)\n",
    "\n",
    "    # Calculate mean abstracts' length\n",
    "    metrics[\"length\"] = mean([len(h) for h in hyps])\n",
    "\n",
    "    return metrics\n",
    "\n",
    "\n",
    "def print_metrics(refs, hyps):\n",
    "    metrics = calc_metrics(refs, hyps)\n",
    "\n",
    "    print(\"-------------METRICS-------------\")\n",
    "    print(\"Count:\\t\", metrics[\"count\"])\n",
    "    print(\"Ref:\\t\", metrics[\"ref_example\"])\n",
    "    print(\"Hyp:\\t\", metrics[\"hyp_example\"])\n",
    "\n",
    "    print(\"BLEU:     \\t{:3.1f}\".format(metrics[\"bleu\"] * 100.0))\n",
    "\n",
    "    print(\"ROUGE-1-F:\\t{:3.1f}\".format(metrics[\"rouge-1\"]['f'] * 100.0))\n",
    "    print(\"ROUGE-2-F:\\t{:3.1f}\".format(metrics[\"rouge-2\"]['f'] * 100.0))\n",
    "    print(\"ROUGE-L-F:\\t{:3.1f}\".format(metrics[\"rouge-l\"]['f'] * 100.0))\n",
    "\n",
    "    print(\"Avg length:\\t{:3.1f}\".format(metrics[\"length\"]))\n",
    "\n",
    "\n",
    "def postprocess(ref, hyp, tokenize_after=False, lower=False):\n",
    "    ref = ref.strip()\n",
    "    hyp = hyp.strip()\n",
    "    if tokenize_after:\n",
    "        hyp = hyp.replace(\"@@UNKNOWN@@\", \"<unk>\")\n",
    "        hyp = \" \".join([token.text for token in razdel.tokenize(hyp)])\n",
    "        ref = \" \".join([token.text for token in razdel.tokenize(ref)])\n",
    "    if lower:\n",
    "        hyp = hyp.lower()\n",
    "        ref = ref.lower()\n",
    "    return ref, hyp"
   ]
  },
  {
   "cell_type": "code",
   "execution_count": 33,
   "metadata": {},
   "outputs": [],
   "source": [
    "from tqdm.notebook import tqdm\n",
    "\n",
    "def calcs(predictions_file, targets_file):\n",
    "    preds = []\n",
    "    targets = []\n",
    "    with open(predictions_file, \"r\") as r:\n",
    "        for rl in tqdm(r.readlines()):\n",
    "            preds.append(rl)\n",
    "    with open(targets_file, \"r\") as r:\n",
    "        for rl in tqdm(r.readlines()):\n",
    "            targets.append(rl)\n",
    "            \n",
    "    for i, (target, pred) in enumerate(tqdm(zip(targets, preds))):\n",
    "        targets[i], preds[i] = postprocess(target, pred, tokenize_after=True, lower=True)\n",
    "        \n",
    "    print_metrics(targets, preds)\n",
    "    "
   ]
  },
  {
   "cell_type": "code",
   "execution_count": 34,
   "metadata": {},
   "outputs": [
    {
     "data": {
      "application/vnd.jupyter.widget-view+json": {
       "model_id": "688aa15467144f569743b03284a2ce32",
       "version_major": 2,
       "version_minor": 0
      },
      "text/plain": [
       "  0%|          | 0/3868 [00:00<?, ?it/s]"
      ]
     },
     "metadata": {},
     "output_type": "display_data"
    },
    {
     "data": {
      "application/vnd.jupyter.widget-view+json": {
       "model_id": "4eb51b9a302d4dfd8a2b7eeba67035ac",
       "version_major": 2,
       "version_minor": 0
      },
      "text/plain": [
       "  0%|          | 0/3868 [00:00<?, ?it/s]"
      ]
     },
     "metadata": {},
     "output_type": "display_data"
    },
    {
     "data": {
      "application/vnd.jupyter.widget-view+json": {
       "model_id": "8ea3ddef84eb4d86adf28d5d674fb67f",
       "version_major": 2,
       "version_minor": 0
      },
      "text/plain": [
       "0it [00:00, ?it/s]"
      ]
     },
     "metadata": {},
     "output_type": "display_data"
    },
    {
     "name": "stdout",
     "output_type": "stream",
     "text": [
      "-------------METRICS-------------\n",
      "Count:\t 3868\n",
      "Ref:\t исследована возможность получения кисломолочных продуктов с бифидобактериями на основе биогеля из водорослей . показана его пребиотическая активность в отношении bifidobacterium bifidum . разработана технология получения пробиотических продуктов , установлен срок хранения .\n",
      "Hyp:\t наибольший интерес в связи с этим представляют пробиотические продукты на основе бифидобактерий — главной составляющей облигатной микрофлоры кишечника человека . они плохо растут на молоке , что создает определенные трудности в производстве кисломолочных продуктов .\n",
      "BLEU:     \t2.6\n",
      "ROUGE-1-F:\t17.9\n",
      "ROUGE-2-F:\t6.2\n",
      "ROUGE-L-F:\t16.0\n",
      "Avg length:\t328.9\n"
     ]
    }
   ],
   "source": [
    "calcs(\"/DATA/ichuviliaeva/project_data/predictions.txt\", \n",
    "    \"/DATA/ichuviliaeva/project_data/targets.txt\")"
   ]
  },
  {
   "cell_type": "code",
   "execution_count": null,
   "metadata": {},
   "outputs": [],
   "source": []
  }
 ],
 "metadata": {
  "kernelspec": {
   "display_name": "Python 3 (ipykernel)",
   "language": "python",
   "name": "python3"
  },
  "language_info": {
   "codemirror_mode": {
    "name": "ipython",
    "version": 3
   },
   "file_extension": ".py",
   "mimetype": "text/x-python",
   "name": "python",
   "nbconvert_exporter": "python",
   "pygments_lexer": "ipython3",
   "version": "3.9.16"
  }
 },
 "nbformat": 4,
 "nbformat_minor": 4
}
